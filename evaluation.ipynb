{
 "cells": [
  {
   "cell_type": "code",
   "execution_count": 12,
   "id": "58b47429-a8d7-4220-9664-38f7367510dc",
   "metadata": {},
   "outputs": [],
   "source": [
    "from transformers import AutoTokenizer, AutoModelForCausalLM\n",
    "import torch\n",
    "import os\n",
    "import pandas as pd\n",
    "import numpy as np\n",
    "from tqdm.notebook import tqdm\n",
    "from random import sample"
   ]
  },
  {
   "cell_type": "code",
   "execution_count": 72,
   "id": "8c3cd044-b206-4101-9cab-ab416648d805",
   "metadata": {},
   "outputs": [
    {
     "data": {
      "application/json": {
       "ascii": false,
       "bar_format": null,
       "colour": null,
       "elapsed": 0.02114105224609375,
       "initial": 0,
       "n": 0,
       "ncols": null,
       "nrows": null,
       "postfix": null,
       "prefix": "Loading checkpoint shards",
       "rate": null,
       "total": 2,
       "unit": "it",
       "unit_divisor": 1000,
       "unit_scale": false
      },
      "application/vnd.jupyter.widget-view+json": {
       "model_id": "384c3aa669ac41718c3134f8eb7b7f63",
       "version_major": 2,
       "version_minor": 0
      },
      "text/plain": [
       "Loading checkpoint shards:   0%|          | 0/2 [00:00<?, ?it/s]"
      ]
     },
     "metadata": {},
     "output_type": "display_data"
    },
    {
     "data": {
      "application/json": {
       "ascii": false,
       "bar_format": null,
       "colour": null,
       "elapsed": 0.018067598342895508,
       "initial": 0,
       "n": 0,
       "ncols": null,
       "nrows": null,
       "postfix": null,
       "prefix": "Downloading",
       "rate": null,
       "total": 116,
       "unit": "B",
       "unit_divisor": 1000,
       "unit_scale": true
      },
      "application/vnd.jupyter.widget-view+json": {
       "model_id": "6432d27ade014e60a2430ebd916299bb",
       "version_major": 2,
       "version_minor": 0
      },
      "text/plain": [
       "Downloading:   0%|          | 0.00/116 [00:00<?, ?B/s]"
      ]
     },
     "metadata": {},
     "output_type": "display_data"
    }
   ],
   "source": [
    "# pt1 = \"beomi/KoAlpaca-Polyglot-5.8B\"\n",
    "# pt2 = \"EleutherAI/polyglot-ko-5.8b\"\n",
    "\n",
    "tokenizer = AutoTokenizer.from_pretrained(\"EleutherAI/polyglot-ko-5.8b\")\n",
    "model = AutoModelForCausalLM.from_pretrained(\"beomi/KoAlpaca-Polyglot\", torch_dtype=torch.float16).cuda()"
   ]
  },
  {
   "cell_type": "code",
   "execution_count": 73,
   "id": "9fde70cc-f36a-4081-88f9-23c2b46c27cf",
   "metadata": {},
   "outputs": [],
   "source": [
    "model.config.max_length = 2048\n",
    "model.config.pad_token_id = 0"
   ]
  },
  {
   "cell_type": "code",
   "execution_count": 74,
   "id": "11057507-ff00-4b73-8845-05b20f33204b",
   "metadata": {},
   "outputs": [],
   "source": [
    "DATA_IN_PATH = './data_in/KOR'\n",
    "DATA_OUT_PATH = './data_out/KOR'\n",
    "DATA_TRAIN_PATH = os.path.join(DATA_IN_PATH, 'naver_movie', 'ratings_train.txt')\n",
    "DATA_TEST_PATH = os.path.join(DATA_IN_PATH, 'naver_movie', 'ratings_test.txt')\n",
    "\n",
    "train_data = pd.read_csv(DATA_TRAIN_PATH, header=0, delimiter='\\t')\n",
    "train_data = train_data.dropna()"
   ]
  },
  {
   "cell_type": "code",
   "execution_count": 75,
   "id": "c796e703-593c-4057-bb9e-92714a208f81",
   "metadata": {},
   "outputs": [
    {
     "data": {
      "application/json": {
       "ascii": false,
       "bar_format": null,
       "colour": null,
       "elapsed": 0.019846677780151367,
       "initial": 0,
       "n": 0,
       "ncols": null,
       "nrows": null,
       "postfix": null,
       "prefix": "",
       "rate": null,
       "total": 149995,
       "unit": "it",
       "unit_divisor": 1000,
       "unit_scale": false
      },
      "application/vnd.jupyter.widget-view+json": {
       "model_id": "483d2dfeeb8742648ffa61bd55d045f9",
       "version_major": 2,
       "version_minor": 0
      },
      "text/plain": [
       "  0%|          | 0/149995 [00:00<?, ?it/s]"
      ]
     },
     "metadata": {},
     "output_type": "display_data"
    },
    {
     "name": "stdout",
     "output_type": "stream",
     "text": [
      "Few shot 케이스 토큰 평균 길이:  20.19508650288343\n",
      "Few shot 케이스 토큰 최대 길이:  280\n",
      "Few shot 케이스 토큰 길이 표준편차:  16.431122357214313\n",
      "Few shot 케이스 토큰 길이 80 퍼센타일:  27.0\n"
     ]
    }
   ],
   "source": [
    "sent_lens = [len(tokenizer(s).input_ids) for s in tqdm(train_data['document'])]\n",
    "\n",
    "print('Few shot 케이스 토큰 평균 길이: ', np.mean(sent_lens))\n",
    "print('Few shot 케이스 토큰 최대 길이: ', np.max(sent_lens))\n",
    "print('Few shot 케이스 토큰 길이 표준편차: ',np.std(sent_lens))\n",
    "print('Few shot 케이스 토큰 길이 80 퍼센타일: ',np.percentile(sent_lens, 80))"
   ]
  },
  {
   "cell_type": "code",
   "execution_count": 76,
   "id": "b78167f5-8dcb-4738-9c26-c3b5571f38b4",
   "metadata": {},
   "outputs": [
    {
     "data": {
      "application/json": {
       "ascii": false,
       "bar_format": null,
       "colour": null,
       "elapsed": 0.019136667251586914,
       "initial": 0,
       "n": 0,
       "ncols": null,
       "nrows": null,
       "postfix": null,
       "prefix": "",
       "rate": null,
       "total": 149995,
       "unit": "it",
       "unit_divisor": 1000,
       "unit_scale": false
      },
      "application/vnd.jupyter.widget-view+json": {
       "model_id": "254e2e19760a484a88c266a50f09bdb4",
       "version_major": 2,
       "version_minor": 0
      },
      "text/plain": [
       "  0%|          | 0/149995 [00:00<?, ?it/s]"
      ]
     },
     "metadata": {},
     "output_type": "display_data"
    }
   ],
   "source": [
    "train_fewshot_data = list()\n",
    "for train_sent, train_label in tqdm(train_data[['document', 'label']].values):\n",
    "    tokens = tokenizer(train_sent).input_ids\n",
    "    if len(tokens) <= 25:\n",
    "        train_fewshot_data.append((train_sent, train_label))"
   ]
  },
  {
   "cell_type": "code",
   "execution_count": 77,
   "id": "07487f4b-d939-4d2a-8263-09ae98aaa57d",
   "metadata": {},
   "outputs": [
    {
     "name": "stdout",
     "output_type": "stream",
     "text": [
      "115629\n",
      "[('아 더빙.. 진짜 짜증나네요 목소리', 0), ('흠...포스터보고 초딩영화줄....오버연기조차 가볍지 않구나', 1), ('너무재밓었다그래서보는것을추천한다', 0)]\n"
     ]
    }
   ],
   "source": [
    "print(len(train_fewshot_data))\n",
    "print(train_fewshot_data[:3])"
   ]
  },
  {
   "cell_type": "code",
   "execution_count": 78,
   "id": "6ffc8acb-35dd-4faf-a74f-deea16ba3bfe",
   "metadata": {},
   "outputs": [],
   "source": [
    "# Sampled Dataset\n",
    "sample_size = 500\n",
    "\n",
    "train_fewshot_samples = []\n",
    "\n",
    "for _ in range(sample_size):\n",
    "    fewshot_examples = sample(train_fewshot_data, 10)\n",
    "    train_fewshot_samples.append(fewshot_examples)"
   ]
  },
  {
   "cell_type": "code",
   "execution_count": 79,
   "id": "f0898728-b49e-4b5e-9f56-2bec8a0f2871",
   "metadata": {},
   "outputs": [
    {
     "data": {
      "text/html": [
       "<div>\n",
       "<style scoped>\n",
       "    .dataframe tbody tr th:only-of-type {\n",
       "        vertical-align: middle;\n",
       "    }\n",
       "\n",
       "    .dataframe tbody tr th {\n",
       "        vertical-align: top;\n",
       "    }\n",
       "\n",
       "    .dataframe thead th {\n",
       "        text-align: right;\n",
       "    }\n",
       "</style>\n",
       "<table border=\"1\" class=\"dataframe\">\n",
       "  <thead>\n",
       "    <tr style=\"text-align: right;\">\n",
       "      <th></th>\n",
       "      <th>id</th>\n",
       "      <th>document</th>\n",
       "      <th>label</th>\n",
       "    </tr>\n",
       "  </thead>\n",
       "  <tbody>\n",
       "    <tr>\n",
       "      <th>0</th>\n",
       "      <td>6270596</td>\n",
       "      <td>굳 ㅋ</td>\n",
       "      <td>1</td>\n",
       "    </tr>\n",
       "    <tr>\n",
       "      <th>1</th>\n",
       "      <td>9274899</td>\n",
       "      <td>GDNTOPCLASSINTHECLUB</td>\n",
       "      <td>0</td>\n",
       "    </tr>\n",
       "    <tr>\n",
       "      <th>2</th>\n",
       "      <td>8544678</td>\n",
       "      <td>뭐야 이 평점들은.... 나쁘진 않지만 10점 짜리는 더더욱 아니잖아</td>\n",
       "      <td>0</td>\n",
       "    </tr>\n",
       "    <tr>\n",
       "      <th>3</th>\n",
       "      <td>6825595</td>\n",
       "      <td>지루하지는 않은데 완전 막장임... 돈주고 보기에는....</td>\n",
       "      <td>0</td>\n",
       "    </tr>\n",
       "    <tr>\n",
       "      <th>4</th>\n",
       "      <td>6723715</td>\n",
       "      <td>3D만 아니었어도 별 다섯 개 줬을텐데.. 왜 3D로 나와서 제 심기를 불편하게 하죠??</td>\n",
       "      <td>0</td>\n",
       "    </tr>\n",
       "  </tbody>\n",
       "</table>\n",
       "</div>"
      ],
      "text/plain": [
       "        id                                           document  label\n",
       "0  6270596                                                굳 ㅋ      1\n",
       "1  9274899                               GDNTOPCLASSINTHECLUB      0\n",
       "2  8544678             뭐야 이 평점들은.... 나쁘진 않지만 10점 짜리는 더더욱 아니잖아      0\n",
       "3  6825595                   지루하지는 않은데 완전 막장임... 돈주고 보기에는....      0\n",
       "4  6723715  3D만 아니었어도 별 다섯 개 줬을텐데.. 왜 3D로 나와서 제 심기를 불편하게 하죠??      0"
      ]
     },
     "execution_count": 79,
     "metadata": {},
     "output_type": "execute_result"
    }
   ],
   "source": [
    "test_data = pd.read_csv(DATA_TEST_PATH, header=0, delimiter='\\t', quoting=3)\n",
    "test_data = test_data.dropna()\n",
    "test_data.head()"
   ]
  },
  {
   "cell_type": "code",
   "execution_count": 80,
   "id": "02b07dd1-7533-4353-9724-6acd1ef64632",
   "metadata": {},
   "outputs": [],
   "source": [
    "if sample_size < len(test_data['id']):\n",
    "    test_data = test_data.sample(sample_size, random_state=0)"
   ]
  },
  {
   "cell_type": "code",
   "execution_count": 81,
   "id": "622b3002-f165-462c-84dd-836d5c7f1ab8",
   "metadata": {},
   "outputs": [],
   "source": [
    "import re\n",
    "\n",
    "def build_prompt_text(sent):\n",
    "    return \"문장: \" + sent + \"\\n감정: \"\n",
    "\n",
    "def clean_text(sent):\n",
    "    sent_clean = re.sub(\"[^가-힣ㄱ-ㅎㅏ-ㅣ\\\\s]\", \"\", sent)\n",
    "    return sent_clean"
   ]
  },
  {
   "cell_type": "code",
   "execution_count": 82,
   "id": "5e6134a3-d182-449b-a6f5-d8900577a46c",
   "metadata": {},
   "outputs": [],
   "source": [
    "real_labels = list()\n",
    "pred_tokens = list()\n",
    "\n",
    "total_len = len(test_data[['document', 'label']].values)"
   ]
  },
  {
   "cell_type": "code",
   "execution_count": null,
   "id": "9f3dc6b5-265b-46b4-9be6-f763ca19746e",
   "metadata": {},
   "outputs": [
    {
     "data": {
      "application/json": {
       "ascii": false,
       "bar_format": null,
       "colour": null,
       "elapsed": 0.01930379867553711,
       "initial": 0,
       "n": 0,
       "ncols": null,
       "nrows": null,
       "postfix": null,
       "prefix": "",
       "rate": null,
       "total": 500,
       "unit": "it",
       "unit_divisor": 1000,
       "unit_scale": false
      },
      "application/vnd.jupyter.widget-view+json": {
       "model_id": "4f3123b4e12949c78cc34dc86c66b616",
       "version_major": 2,
       "version_minor": 0
      },
      "text/plain": [
       "  0%|          | 0/500 [00:00<?, ?it/s]"
      ]
     },
     "metadata": {},
     "output_type": "display_data"
    }
   ],
   "source": [
    "for i, (test_sent, test_label) in tqdm(enumerate(test_data[['document', 'label']].values), total=total_len):\n",
    "    prompt_text = ''\n",
    "    for ex in train_fewshot_samples[i]:\n",
    "        example_text, example_label = ex\n",
    "        cleaned_example_text = clean_text(example_text)\n",
    "        appended_prompt_example_text = build_prompt_text(cleaned_example_text)\n",
    "        appended_prompt_example_text += '긍정\\n' if example_label == 1 else '부정\\n'\n",
    "        prompt_text += appended_prompt_example_text\n",
    "        \n",
    "    cleaned_sent = clean_text(test_sent)\n",
    "    appended_prompt_sent = build_prompt_text(cleaned_sent)\n",
    "    prompt_text += appended_prompt_sent\n",
    "    \n",
    "    tokens = tokenizer(prompt_text, return_tensors='pt')\n",
    "    token_ids, attn_mask = tokens.input_ids.cuda(), tokens.attention_mask.cuda()\n",
    "    gen_tokens = model.generate(input_ids=token_ids, attention_mask=attn_mask, max_new_tokens=1, pad_token_id=0)\n",
    "    # print(tokenizer.batch_decode(gen_tokens))\n",
    "    pred = tokenizer.batch_decode(gen_tokens[:, -1])[0].strip()\n",
    "    \n",
    "    pred_tokens.append(pred)\n",
    "    real_labels.append('긍정' if test_label==1 else \"부정\")"
   ]
  },
  {
   "cell_type": "code",
   "execution_count": 84,
   "id": "92aa6a5a-3483-4e64-a071-5b9f52d29cbf",
   "metadata": {},
   "outputs": [
    {
     "name": "stdout",
     "output_type": "stream",
     "text": [
      "['', '', 'ing', '', '....', '', '긍정', '', '', '긍정', '不', '', '...', '이런', '좋', '', '', '긍정', '....', '', '긍정', '', '', '....', '미스터', '....', '', '', '', '', '....', '', '...', '', '긍정', '', '', '', '', '', '긍정', 'low', '....', '', '', '', '', '...', '', '', '', '', '', '....', '긍정', '....', '긍정', '별로', '', '...', '', '', 'ab', '', '긍정', '긍정', '', '긍정', '보', 'ok', '....', '', '...', '', '...', '', '보', '저', '', '1', '', '', '', '....', '....', '', '', 'ing', '....', '보', '', '', 'o', 'z', '', '', '', '', 'ab', '긍정', '', '....', '<|endoftext|>', '....', '좋', '', '아', '긍정', '', '존', '캐스팅', '<|endoftext|>', '음', '긍정', '', '긍정', '', '', '', '....', '', '<|endoftext|>', '긍정', '', '부정', '긍정', '', '....', '...', '', 'ing', '', '긍정', '....', '....', '', '좋', '보', '', 'o', '', '', '', '', 'z', '', '긍정', '', '좋', '', '^', '', '보', '...', '긍정', '', '좋', 'ap', 'ant', '', '....', '', '', '긍정', '', '', 'ol', 'ab', '긍정', 'z', '', '긍정', '....', '긍정', '', '', '음', '긍정', '이', '<|endoftext|>', '', '긍정', '....', '...', 'o', '', '별로', '', '', '', '', '', '', '잘', '긍정', '....', '....', '不', '긍정', '긍정', '보', 'all', '', '', '', '....', '', '좋', '....', '긍정', '', '', '긍정', '', '....', '', '긍정', '음악', '....', '긍정', 'ing', '', '이런', '', '재밌', '..', '별로', '', '不', '...', '', '긍정', '좋', '....', '', '', '<|endoftext|>', '유머', '좋', '긍정', 'ab', '', '', '', '....', '긍정', '', '', 'ok', '', '', '긍정', '좋', '사랑', 'o', '', 'ing', '', 'ab', '', '', '...', '', '긍정', '', '', '...', '', '...', '긍정', '긍정', '긍정', '별', '', 'z', '...', '...', '', '', '긍정', '좋', '', 'all', '', '보', '', '이', '긍정', '', '긍정', '', '음', '긍정', '', '긍정', '...', '', '긍정', '', '', '', '이런', '', '....', '긍정', '긍정', '', '', '', '', '액션', '...', '긍정', '', '', '', '긍정', '긍정', '좋', 'ab', '', '...', 'o', 'ok', '보', '', '...', '', '', 'o', '', '', '....', 'ol', '', '긍정', '', '', '不', '...', '', '...', '좋', '...', '별로', '', '', '', '', '<|endoftext|>', '', '너무', '', '별로', '이', '긍정', '', 'ol', '....', '수치', '不', '완전', '긍정', '', '긍정', '', '영화', '이런', '', '...', '', '', '', '', '', '', '', '...', '', '좋', '', '', '', '', '', '', 'ok', '음', '좋', '', '긍정', 'z', '....', '....', '....', 'o', '', '....', '...', '...', '재미있', '긍정', 'ing', '긍정', '', '', '', '긍정', '긍정', '', 'ok', '', '', '일본', '긍정', '', '', '', '...', '....', '긍정', '좋', '음', '예', '이', '', 'all', '', '....', 'ok', '이건', '좋', '', '...', '....', '', '', '읽', '긍정', '별로', '긍정', '', '', '...', '긍정', '긍정', '', '', '', '왜', '^', '....', '', '', '...', 'ab', '긍정', '', '긍정', '긍정', '이', '긍정', '뭐', '', '', '책', '^', '...', '', '', '긍정', '별로', '', '', '', '긍정', '<|endoftext|>', '긍정', '', '긍정', '', '', '부정', '...', 'o', 'z', '', '긍정', 'z', '', 'ab', '....', '', '<|endoftext|>', '', '좋', '', 'o', '...', '']\n",
      "['긍정', '부정', '긍정', '긍정', '긍정', '부정', '긍정', '부정', '긍정', '부정', '부정', '부정', '부정', '부정', '긍정', '부정', '부정', '부정', '긍정', '부정', '긍정', '부정', '부정', '부정', '부정', '부정', '긍정', '긍정', '부정', '부정', '부정', '부정', '부정', '부정', '부정', '부정', '부정', '부정', '부정', '긍정', '긍정', '부정', '부정', '긍정', '긍정', '부정', '긍정', '부정', '부정', '부정', '긍정', '긍정', '긍정', '긍정', '긍정', '부정', '부정', '부정', '부정', '부정', '긍정', '긍정', '긍정', '부정', '부정', '긍정', '부정', '긍정', '긍정', '부정', '긍정', '부정', '부정', '부정', '긍정', '긍정', '긍정', '부정', '긍정', '부정', '부정', '부정', '부정', '부정', '부정', '긍정', '긍정', '긍정', '긍정', '부정', '부정', '부정', '긍정', '부정', '부정', '부정', '긍정', '부정', '긍정', '긍정', '부정', '부정', '부정', '부정', '긍정', '부정', '부정', '긍정', '긍정', '부정', '긍정', '부정', '부정', '긍정', '긍정', '부정', '긍정', '부정', '긍정', '부정', '부정', '부정', '긍정', '부정', '긍정', '긍정', '부정', '부정', '부정', '긍정', '부정', '부정', '부정', '부정', '부정', '긍정', '긍정', '긍정', '부정', '긍정', '부정', '부정', '긍정', '부정', '부정', '부정', '긍정', '부정', '긍정', '부정', '긍정', '부정', '부정', '긍정', '부정', '부정', '긍정', '긍정', '긍정', '부정', '부정', '부정', '부정', '긍정', '부정', '부정', '긍정', '부정', '부정', '부정', '부정', '긍정', '부정', '긍정', '부정', '부정', '부정', '긍정', '긍정', '긍정', '긍정', '긍정', '긍정', '긍정', '긍정', '부정', '긍정', '긍정', '긍정', '부정', '부정', '긍정', '부정', '긍정', '긍정', '부정', '부정', '부정', '긍정', '긍정', '긍정', '부정', '긍정', '부정', '부정', '긍정', '부정', '부정', '부정', '긍정', '부정', '부정', '긍정', '긍정', '부정', '긍정', '긍정', '긍정', '부정', '긍정', '긍정', '긍정', '부정', '긍정', '긍정', '부정', '부정', '긍정', '부정', '부정', '긍정', '부정', '긍정', '긍정', '긍정', '부정', '부정', '긍정', '긍정', '긍정', '긍정', '긍정', '긍정', '긍정', '부정', '긍정', '긍정', '부정', '긍정', '부정', '긍정', '긍정', '긍정', '긍정', '긍정', '부정', '부정', '부정', '부정', '긍정', '긍정', '부정', '부정', '긍정', '부정', '부정', '긍정', '부정', '부정', '긍정', '긍정', '긍정', '부정', '긍정', '부정', '부정', '부정', '부정', '부정', '긍정', '부정', '부정', '긍정', '부정', '부정', '부정', '부정', '긍정', '부정', '긍정', '긍정', '긍정', '긍정', '부정', '긍정', '부정', '부정', '긍정', '긍정', '긍정', '부정', '부정', '부정', '긍정', '긍정', '긍정', '긍정', '긍정', '부정', '긍정', '부정', '부정', '부정', '부정', '부정', '부정', '부정', '긍정', '긍정', '긍정', '부정', '부정', '긍정', '긍정', '부정', '부정', '부정', '긍정', '긍정', '부정', '부정', '부정', '긍정', '부정', '부정', '긍정', '부정', '긍정', '부정', '부정', '긍정', '긍정', '긍정', '긍정', '부정', '긍정', '부정', '부정', '부정', '부정', '긍정', '부정', '긍정', '부정', '부정', '긍정', '부정', '긍정', '부정', '부정', '부정', '긍정', '긍정', '부정', '긍정', '긍정', '긍정', '부정', '긍정', '긍정', '부정', '부정', '긍정', '부정', '부정', '부정', '부정', '부정', '긍정', '긍정', '긍정', '부정', '부정', '긍정', '긍정', '긍정', '부정', '부정', '부정', '긍정', '부정', '부정', '부정', '부정', '긍정', '부정', '부정', '부정', '부정', '부정', '긍정', '긍정', '긍정', '부정', '긍정', '부정', '긍정', '긍정', '긍정', '긍정', '긍정', '부정', '부정', '부정', '긍정', '부정', '긍정', '부정', '부정', '부정', '부정', '부정', '부정', '긍정', '부정', '긍정', '긍정', '긍정', '부정', '긍정', '부정', '부정', '긍정', '부정', '부정', '부정', '긍정', '부정', '긍정', '부정', '긍정', '부정', '긍정', '부정', '긍정', '긍정', '부정', '부정', '긍정', '부정', '부정', '긍정', '부정', '부정', '긍정', '긍정', '긍정', '부정', '긍정', '긍정', '긍정', '부정', '부정', '긍정', '부정', '부정', '부정', '부정', '부정', '부정', '긍정', '부정', '부정', '긍정', '긍정', '긍정', '부정', '긍정', '긍정', '긍정', '긍정', '부정', '부정', '긍정', '부정', '긍정', '긍정', '긍정', '부정', '부정', '긍정', '부정', '부정', '부정', '긍정', '긍정', '부정', '긍정', '부정', '부정']\n"
     ]
    }
   ],
   "source": [
    "print(pred_tokens)\n",
    "print(real_labels)"
   ]
  },
  {
   "cell_type": "code",
   "execution_count": 86,
   "id": "ed0be11b-53c9-4b8d-8cc7-3ecca4f9fbb2",
   "metadata": {},
   "outputs": [
    {
     "name": "stdout",
     "output_type": "stream",
     "text": [
      "0.122\n"
     ]
    }
   ],
   "source": [
    "accuracy_match = [p == t for p, t in zip(pred_tokens, real_labels)]\n",
    "accuracy = len([m for m in accuracy_match if m]) / len(real_labels)\n",
    "\n",
    "print(accuracy)"
   ]
  },
  {
   "cell_type": "code",
   "execution_count": null,
   "id": "ae4df71b-9bd2-4fde-b98d-ad76dec4a594",
   "metadata": {},
   "outputs": [],
   "source": []
  }
 ],
 "metadata": {
  "kernelspec": {
   "display_name": "Python 3 (ipykernel)",
   "language": "python",
   "name": "python3"
  },
  "language_info": {
   "codemirror_mode": {
    "name": "ipython",
    "version": 3
   },
   "file_extension": ".py",
   "mimetype": "text/x-python",
   "name": "python",
   "nbconvert_exporter": "python",
   "pygments_lexer": "ipython3",
   "version": "3.8.0"
  }
 },
 "nbformat": 4,
 "nbformat_minor": 5
}
